{
  "nbformat": 4,
  "nbformat_minor": 0,
  "metadata": {
    "colab": {
      "name": "insta_folower.ipynb",
      "provenance": []
    },
    "kernelspec": {
      "name": "python3",
      "display_name": "Python 3"
    }
  },
  "cells": [
    {
      "cell_type": "code",
      "metadata": {
        "colab": {
          "base_uri": "https://localhost:8080/"
        },
        "id": "YOcEpn2GJtg2",
        "outputId": "7612d72c-0a00-4415-95ca-a53782da7292"
      },
      "source": [
        "from google.colab import drive\n",
        "drive.mount('/content/gdrive', force_remount=True)"
      ],
      "execution_count": 12,
      "outputs": [
        {
          "output_type": "stream",
          "text": [
            "Mounted at /content/gdrive\n"
          ],
          "name": "stdout"
        }
      ]
    },
    {
      "cell_type": "code",
      "metadata": {
        "colab": {
          "base_uri": "https://localhost:8080/"
        },
        "id": "oPJPOVxlHmNS",
        "outputId": "610e4a74-6b49-4df5-e868-b6a2893da328"
      },
      "source": [
        "path = \"/content/gdrive/My Drive/COLAB_MAGA/CLASSWORK/insta_follower.csv\"\n",
        "path_report = \"/content/gdrive/My Drive/COLAB_MAGA/CLASSWORK/report_insta.txt\"\n",
        "with open(path, \"r\") as f:\n",
        "  segments = f.readlines() # list of strings\n",
        "\n",
        "dict_inst = {}\n",
        "for i in range(len(segments[0].split(\",\"))):\n",
        "  dict_inst[i] = []\n",
        "\n",
        "for line in segments[1:]:\n",
        "  for i in dict_inst:\n",
        "    a = line.split(\",\")[i]\n",
        "    if a != \"\" and a != \"\\n\" and a != \"\\t\" and a != \" \":\n",
        "      dict_inst[i].append(a)\n",
        "names = []\n",
        "for i in range(len(dict_inst.values())): #0 1 2 3 ... 37\n",
        "  names += dict_inst[i]\n",
        "names_set = set(names)\n",
        "dict_followers = {name:names.count(name) for name in names_set}# dictionary comprehension\n",
        "common_names = sorted(dict_followers, key = dict_followers.get, reverse = True)\n",
        "top_10 = common_names[2:20] #keep the account Elan and elan_coding\n",
        "report_dict = {}\n",
        "for i in top_10:\n",
        "  report_dict[i] = dict_followers[i]\n",
        "print(report_dict)"
      ],
      "execution_count": 13,
      "outputs": [
        {
          "output_type": "stream",
          "text": [
            "{'ПАТРИОТ КАБАРДИНО-БАЛКАРИИ🌀': 21, 'patriot_kbr': 21, '\"ЧП / Нальчик ': 17, ' КБР 🔞\"': 16, 'kokov_kazbek_': 15, 'Казбек Коков': 15, 'Новости Нальчика': 13, 'nalchiknews': 13, 'chp.nalchik': 11, 'Арсен Каноков': 9, 'kanokov_arsen': 9, 'koronavirus_shtabkbr07': 9, 'Оперативный штаб КБР': 9, 'Залина': 9, 'murat.altuev': 8, 'Мурат Алтуев': 8, 'Ресторан Глянец Кофейня Кекс': 7, 'portal_kbr': 7}\n"
          ],
          "name": "stdout"
        }
      ]
    },
    {
      "cell_type": "code",
      "metadata": {
        "id": "2nr0UNezMQbu"
      },
      "source": [
        "text = \"\"\n",
        "for i,j in report_dict.items():\n",
        "  text += i + \" - \" + str(j) + \"\\n\""
      ],
      "execution_count": 14,
      "outputs": []
    },
    {
      "cell_type": "code",
      "metadata": {
        "id": "jhnQTFqvOIuU"
      },
      "source": [
        "with open(path_report, 'w') as f:\n",
        "  f.write(text)"
      ],
      "execution_count": 16,
      "outputs": []
    }
  ]
}